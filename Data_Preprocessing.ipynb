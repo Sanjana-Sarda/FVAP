{
  "cells": [
    {
      "cell_type": "code",
      "execution_count": null,
      "metadata": {
        "id": "4Qh-4NUSqgd1"
      },
      "outputs": [],
      "source": [
        "from google.colab import drive\n",
        "drive.mount('/content/drive')\n",
        "!unzip \"/content/drive/MyDrive/Stanford/236/236 Dataset/2022-02-17.zip\" -d \"data\""
      ]
    },
    {
      "cell_type": "code",
      "source": [
        "import os\n",
        "import cv2\n",
        "import numpy as np\n",
        "\n",
        "def extract_face(f, required_size=(96, 96)):\n",
        "  # Define paths\n",
        "  prototxt_path = '/content/drive/MyDrive/Stanford/236/model_data/deploy.prototxt.txt'\n",
        "  caffemodel_path = '/content/drive/MyDrive/Stanford/236/model_data/weights.caffemodel'\n",
        "\n",
        "  # Read the model\n",
        "  model = cv2.dnn.readNetFromCaffe(prototxt_path, caffemodel_path)\n",
        "\n",
        "  # Create directory 'faces' if it does not exist\n",
        "  if not os.path.exists('faces'):\n",
        "\t  print(\"New directory created\")\n",
        "\t  os.makedirs('faces')\n",
        "\n",
        "  # Loop through all images and strip out faces\n",
        "  count = 0\n",
        "  file = f[5:]\n",
        "  #f = \"images/\"+file\n",
        "\n",
        "  file_name, file_extension = os.path.splitext(f)\n",
        "  if (file_extension in ['.png','.jpg']):\n",
        "    image = cv2.imread(f)\n",
        "    (h, w) = image.shape[:2]\n",
        "    blob = cv2.dnn.blobFromImage(cv2.resize(image, (200, 200), interpolation = cv2.INTER_AREA), 1.0, (200, 200), (104.0, 177.0, 123.0))\n",
        "    model.setInput(blob)\n",
        "    detections = model.forward()\n",
        "\n",
        "\t\t# Identify each face\n",
        "    for i in range(0, 1):#detections.shape[2]):\n",
        "      box = detections[0, 0, i, 3:7] * np.array([w, h, w, h])\n",
        "      (startX, startY, endX, endY) = box.astype(\"int\")\n",
        "      confidence = detections[0, 0, i, 2]\n",
        "\n",
        "\t\t\t# If confidence > 0.5, save it as a separate file\n",
        "      if (confidence > 0.5):\n",
        "        count += 1\n",
        "        frame = image[startY:endY, startX:endX]\n",
        "        if (frame.shape[0]<=75 or frame.shape[1]<=75):\n",
        "          return False\n",
        "        frame = cv2.resize(frame, required_size, interpolation = cv2.INTER_AREA)\n",
        "        cv2.imwrite('faces/'+str(i) + '_' + file, frame)\n",
        "      else:\n",
        "        return False\n",
        "  return True"
      ],
      "metadata": {
        "id": "AZrk-r1PsGQA"
      },
      "execution_count": 3,
      "outputs": []
    },
    {
      "cell_type": "code",
      "source": [
        "import glob\n",
        "path = \"data/*.*\"\n",
        "database = {}\n",
        "for file in glob.glob(path):\n",
        "  extract_face(file)"
      ],
      "metadata": {
        "colab": {
          "base_uri": "https://localhost:8080/"
        },
        "id": "m8zYKBNGsYq8",
        "outputId": "544d83f3-f02e-44ed-ef5e-76d66a624aa5"
      },
      "execution_count": 4,
      "outputs": [
        {
          "output_type": "stream",
          "name": "stdout",
          "text": [
            "New directory created\n"
          ]
        }
      ]
    },
    {
      "cell_type": "code",
      "source": [
        "path = \"faces/*.*\"\n",
        "i = 0\n",
        "for file in glob.glob(path):\n",
        "  os.rename(file, \"nfaces/\"+str(i)+\".jpg\")\n",
        "  i = i+1"
      ],
      "metadata": {
        "id": "zFVp_nS_tFci"
      },
      "execution_count": 7,
      "outputs": []
    },
    {
      "cell_type": "code",
      "source": [
        "!zip -r \"/content/drive/MyDrive/Stanford/236/236 Dataset/data.zip\" \"/content/nfaces\""
      ],
      "metadata": {
        "id": "M9Fq6UbnuLk6"
      },
      "execution_count": null,
      "outputs": []
    }
  ],
  "metadata": {
    "colab": {
      "name": "Data Preprocessing.ipynb",
      "provenance": [],
      "machine_shape": "hm"
    },
    "kernelspec": {
      "display_name": "Python 3",
      "name": "python3"
    },
    "language_info": {
      "name": "python"
    },
    "accelerator": "GPU"
  },
  "nbformat": 4,
  "nbformat_minor": 0
}