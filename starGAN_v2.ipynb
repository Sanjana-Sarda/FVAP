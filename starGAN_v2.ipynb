{
  "cells": [
    {
      "cell_type": "markdown",
      "metadata": {
        "id": "_Ew8m9txlxBh"
      },
      "source": [
        "# StarGAN v2 \n",
        "Official Github Page: [https://github.com/clovaai/stargan-v2](https://github.com/clovaai/stargan-v2)   "
      ]
    },
    {
      "cell_type": "markdown",
      "metadata": {
        "id": "JdvcO-RgpQjP"
      },
      "source": [
        "# Download Dependencies"
      ]
    },
    {
      "cell_type": "markdown",
      "metadata": {
        "id": "z2BOr61qoulE"
      },
      "source": [
        "Clone StarGAN v2 Repo"
      ]
    },
    {
      "cell_type": "code",
      "execution_count": 2,
      "metadata": {
        "colab": {
          "base_uri": "https://localhost:8080/"
        },
        "id": "TR5xn8jFnulD",
        "outputId": "75df6c0a-0ca4-4c6b-913b-172174d6c7f8"
      },
      "outputs": [
        {
          "name": "stdout",
          "output_type": "stream",
          "text": [
            "Cloning into 'stargan-v2'...\n",
            "remote: Enumerating objects: 266, done.\u001b[K\n",
            "remote: Total 266 (delta 0), reused 0 (delta 0), pack-reused 266\u001b[K\n",
            "Receiving objects: 100% (266/266), 38.86 MiB | 26.14 MiB/s, done.\n",
            "Resolving deltas: 100% (59/59), done.\n",
            "/content/stargan-v2\n"
          ]
        }
      ],
      "source": [
        "! git clone https://github.com/clovaai/stargan-v2.git\n",
        "% cd stargan-v2/"
      ]
    },
    {
      "cell_type": "markdown",
      "metadata": {
        "id": "r0vNTfWXvN07"
      },
      "source": [
        "Download Libraries"
      ]
    },
    {
      "cell_type": "code",
      "execution_count": 3,
      "metadata": {
        "colab": {
          "base_uri": "https://localhost:8080/"
        },
        "id": "UexalSAovRXs",
        "outputId": "d9b55c39-a2fe-43aa-fdde-d410d39d0c23"
      },
      "outputs": [
        {
          "name": "stdout",
          "output_type": "stream",
          "text": [
            "Collecting ffmpeg-python==0.2.0\n",
            "  Downloading ffmpeg_python-0.2.0-py3-none-any.whl (25 kB)\n",
            "Collecting scikit-image==0.16.2\n",
            "  Downloading scikit_image-0.16.2-cp37-cp37m-manylinux1_x86_64.whl (26.5 MB)\n",
            "\u001b[K     |████████████████████████████████| 26.5 MB 1.2 MB/s \n",
            "\u001b[?25hRequirement already satisfied: future in /usr/local/lib/python3.7/dist-packages (from ffmpeg-python==0.2.0) (0.16.0)\n",
            "Requirement already satisfied: pillow>=4.3.0 in /usr/local/lib/python3.7/dist-packages (from scikit-image==0.16.2) (7.1.2)\n",
            "Requirement already satisfied: imageio>=2.3.0 in /usr/local/lib/python3.7/dist-packages (from scikit-image==0.16.2) (2.4.1)\n",
            "Requirement already satisfied: matplotlib!=3.0.0,>=2.0.0 in /usr/local/lib/python3.7/dist-packages (from scikit-image==0.16.2) (3.2.2)\n",
            "Requirement already satisfied: networkx>=2.0 in /usr/local/lib/python3.7/dist-packages (from scikit-image==0.16.2) (2.6.3)\n",
            "Requirement already satisfied: scipy>=0.19.0 in /usr/local/lib/python3.7/dist-packages (from scikit-image==0.16.2) (1.4.1)\n",
            "Requirement already satisfied: PyWavelets>=0.4.0 in /usr/local/lib/python3.7/dist-packages (from scikit-image==0.16.2) (1.2.0)\n",
            "Requirement already satisfied: numpy in /usr/local/lib/python3.7/dist-packages (from imageio>=2.3.0->scikit-image==0.16.2) (1.21.5)\n",
            "Requirement already satisfied: kiwisolver>=1.0.1 in /usr/local/lib/python3.7/dist-packages (from matplotlib!=3.0.0,>=2.0.0->scikit-image==0.16.2) (1.3.2)\n",
            "Requirement already satisfied: cycler>=0.10 in /usr/local/lib/python3.7/dist-packages (from matplotlib!=3.0.0,>=2.0.0->scikit-image==0.16.2) (0.11.0)\n",
            "Requirement already satisfied: pyparsing!=2.0.4,!=2.1.2,!=2.1.6,>=2.0.1 in /usr/local/lib/python3.7/dist-packages (from matplotlib!=3.0.0,>=2.0.0->scikit-image==0.16.2) (3.0.7)\n",
            "Requirement already satisfied: python-dateutil>=2.1 in /usr/local/lib/python3.7/dist-packages (from matplotlib!=3.0.0,>=2.0.0->scikit-image==0.16.2) (2.8.2)\n",
            "Requirement already satisfied: six>=1.5 in /usr/local/lib/python3.7/dist-packages (from python-dateutil>=2.1->matplotlib!=3.0.0,>=2.0.0->scikit-image==0.16.2) (1.15.0)\n",
            "Installing collected packages: scikit-image, ffmpeg-python\n",
            "  Attempting uninstall: scikit-image\n",
            "    Found existing installation: scikit-image 0.18.3\n",
            "    Uninstalling scikit-image-0.18.3:\n",
            "      Successfully uninstalled scikit-image-0.18.3\n",
            "\u001b[31mERROR: pip's dependency resolver does not currently take into account all the packages that are installed. This behaviour is the source of the following dependency conflicts.\n",
            "albumentations 0.1.12 requires imgaug<0.2.7,>=0.2.5, but you have imgaug 0.2.9 which is incompatible.\u001b[0m\n",
            "Successfully installed ffmpeg-python-0.2.0 scikit-image-0.16.2\n",
            "Collecting scipy==1.2.1\n",
            "  Downloading scipy-1.2.1-cp37-cp37m-manylinux1_x86_64.whl (24.8 MB)\n",
            "\u001b[K     |████████████████████████████████| 24.8 MB 1.1 MB/s \n",
            "\u001b[?25hCollecting tqdm==4.43.0\n",
            "  Downloading tqdm-4.43.0-py2.py3-none-any.whl (59 kB)\n",
            "\u001b[K     |████████████████████████████████| 59 kB 8.7 MB/s \n",
            "\u001b[?25hCollecting munch==2.5.0\n",
            "  Downloading munch-2.5.0-py2.py3-none-any.whl (10 kB)\n",
            "Requirement already satisfied: numpy>=1.8.2 in /usr/local/lib/python3.7/dist-packages (from scipy==1.2.1) (1.21.5)\n",
            "Requirement already satisfied: six in /usr/local/lib/python3.7/dist-packages (from munch==2.5.0) (1.15.0)\n",
            "Installing collected packages: tqdm, scipy, munch\n",
            "  Attempting uninstall: tqdm\n",
            "    Found existing installation: tqdm 4.62.3\n",
            "    Uninstalling tqdm-4.62.3:\n",
            "      Successfully uninstalled tqdm-4.62.3\n",
            "  Attempting uninstall: scipy\n",
            "    Found existing installation: scipy 1.4.1\n",
            "    Uninstalling scipy-1.4.1:\n",
            "      Successfully uninstalled scipy-1.4.1\n",
            "\u001b[31mERROR: pip's dependency resolver does not currently take into account all the packages that are installed. This behaviour is the source of the following dependency conflicts.\n",
            "panel 0.12.1 requires tqdm>=4.48.0, but you have tqdm 4.43.0 which is incompatible.\n",
            "albumentations 0.1.12 requires imgaug<0.2.7,>=0.2.5, but you have imgaug 0.2.9 which is incompatible.\u001b[0m\n",
            "Successfully installed munch-2.5.0 scipy-1.2.1 tqdm-4.43.0\n"
          ]
        }
      ],
      "source": [
        "!pip install ffmpeg-python==0.2.0 scikit-image==0.16.2\n",
        "!pip install scipy==1.2.1 tqdm==4.43.0 munch==2.5.0"
      ]
    },
    {
      "cell_type": "markdown",
      "metadata": {
        "id": "hV4krzmmpVUJ"
      },
      "source": [
        "## Download pre-trained networks and Datasets"
      ]
    },
    {
      "cell_type": "code",
      "execution_count": null,
      "metadata": {
        "colab": {
          "base_uri": "https://localhost:8080/"
        },
        "id": "HZzoQuEvows4",
        "outputId": "52dfb75f-b43c-4550-faa6-e2254b639aec"
      },
      "outputs": [],
      "source": [
        "! bash download.sh wing"
      ]
    },
    {
      "cell_type": "code",
      "execution_count": null,
      "metadata": {
        "id": "f5MOfbofVSRL"
      },
      "outputs": [],
      "source": [
        "from google.colab import drive\n",
        "drive.mount('/content/drive')\n",
        "\n",
        "!unzip \"/content/drive/MyDrive/Stanford/236/236 Dataset/fairface-img-margin025-trainval.zip\"\n",
        "!unzip \"/content/drive/MyDrive/Stanford/236/236 Dataset/2022-02-17.zip\" -d \"data\""
      ]
    },
    {
      "cell_type": "markdown",
      "metadata": {},
      "source": [
        "Move train folder into new faces folder\n",
        "\n",
        "Make sure evaluation data is not pre-processed."
      ]
    },
    {
      "cell_type": "markdown",
      "metadata": {
        "id": "rTdCdhuJsIeQ"
      },
      "source": [
        "# Run Model"
      ]
    },
    {
      "cell_type": "markdown",
      "metadata": {},
      "source": [
        "Replace checkpoint_dir with custom directory "
      ]
    },
    {
      "cell_type": "code",
      "execution_count": null,
      "metadata": {
        "colab": {
          "base_uri": "https://localhost:8080/"
        },
        "id": "ZCQYoFBegJaB",
        "outputId": "14022f06-74bd-4f89-d6ba-b4f21cad04f0"
      },
      "outputs": [],
      "source": [
        "!python main.py --mode train --num_domains 1 --w_hpf 1 --batch_size 4 --val_batch_size 8 --save_every 1000 \\\n",
        "               --lambda_reg 1 --lambda_sty 1 --lambda_ds 1 --lambda_cyc 1 \\\n",
        "               --train_img_dir faces \\\n",
        "               --val_img_dir faces \\\n",
        "               --checkpoint_dir '/content/drive/MyDrive/Stanford/236/expr/checkpoints' "
      ]
    },
    {
      "cell_type": "markdown",
      "metadata": {
        "id": "rTdCdhuJsIeQ"
      },
      "source": [
        "# Sample From Model"
      ]
    },
    {
      "cell_type": "markdown",
      "metadata": {},
      "source": [
        "Replace checkpoint_dir with custom directory from previous block. \n",
        "\n",
        "Replace src_dir and ref_dir with custom directories."
      ]
    },
    {
      "cell_type": "code",
      "execution_count": null,
      "metadata": {
        "colab": {
          "base_uri": "https://localhost:8080/"
        },
        "id": "GATCrbE8q2Qc",
        "outputId": "56738ab9-0f4b-46e9-bc63-3969bb129ef1"
      },
      "outputs": [],
      "source": [
        "!python main.py --mode sample --num_domains 1 --resume_iter 15000 --w_hpf 1 \\\n",
        "               --checkpoint_dir '/content/drive/MyDrive/Stanford/236/expr/checkpoints' \\ \n",
        "               --result_dir expr/results/test \\\n",
        "               --src_dir  data/content \\\n",
        "               --ref_dir  data/content "
      ]
    }
  ],
  "metadata": {
    "accelerator": "GPU",
    "colab": {
      "collapsed_sections": [],
      "machine_shape": "hm",
      "name": " starGAN v2.ipynb",
      "provenance": []
    },
    "kernelspec": {
      "display_name": "Python 3",
      "name": "python3"
    }
  },
  "nbformat": 4,
  "nbformat_minor": 0
}
