{
  "cells": [
    {
      "cell_type": "markdown",
      "metadata": {},
      "source": [
        "# Face Verification System"
      ]
    },
    {
      "cell_type": "markdown",
      "metadata": {},
      "source": [
        "FaceNet Face Recognition Utility Functions"
      ]
    },
    {
      "cell_type": "code",
      "execution_count": 1,
      "metadata": {
        "id": "Jn-Om0_Sv5M1"
      },
      "outputs": [],
      "source": [
        "#### PART OF THIS CODE IS USING CODE FROM VICTOR SY WANG: https://github.com/iwantooxxoox/Keras-OpenFace/blob/master/utils.py ####\n",
        "\n",
        "import tensorflow as tf\n",
        "import numpy as np\n",
        "import os\n",
        "import cv2\n",
        "from numpy import genfromtxt\n",
        "from keras.layers import Conv2D, ZeroPadding2D, Activation, Input, concatenate\n",
        "from keras.models import Model\n",
        "from keras.layers import BatchNormalization\n",
        "from keras.layers.pooling import MaxPooling2D, AveragePooling2D\n",
        "import h5py\n",
        "import matplotlib.pyplot as plt\n",
        "\n",
        "\n",
        "_FLOATX = 'float32'\n",
        "\n",
        "def variable(value, dtype=_FLOATX, name=None):\n",
        "    v = tf.Variable(np.asarray(value, dtype=dtype), name=name)\n",
        "    _get_session().run(v.initializer)\n",
        "    return v\n",
        "\n",
        "def shape(x):\n",
        "    return x.get_shape()\n",
        "\n",
        "def square(x):\n",
        "    return tf.square(x)\n",
        "\n",
        "def zeros(shape, dtype=_FLOATX, name=None):\n",
        "    return variable(np.zeros(shape), dtype, name)\n",
        "\n",
        "def concatenate(tensors, axis=-1):\n",
        "    if axis < 0:\n",
        "        axis = axis % len(tensors[0].get_shape())\n",
        "    return tf.concat(axis, tensors)\n",
        "\n",
        "def LRN2D(x):\n",
        "    return tf.nn.lrn(x, alpha=1e-4, beta=0.75)\n",
        "\n",
        "def conv2d_bn(x,\n",
        "              layer=None,\n",
        "              cv1_out=None,\n",
        "              cv1_filter=(1, 1),\n",
        "              cv1_strides=(1, 1),\n",
        "              cv2_out=None,\n",
        "              cv2_filter=(3, 3),\n",
        "              cv2_strides=(1, 1),\n",
        "              padding=None):\n",
        "    num = '' if cv2_out == None else '1'\n",
        "    tensor = Conv2D(cv1_out, cv1_filter, strides=cv1_strides, data_format='channels_first', name=layer+'_conv'+num)(x)\n",
        "    tensor = BatchNormalization(axis=1, epsilon=0.00001, name=layer+'_bn'+num)(tensor)\n",
        "    tensor = Activation('relu')(tensor)\n",
        "    if padding == None:\n",
        "        return tensor\n",
        "    tensor = ZeroPadding2D(padding=padding, data_format='channels_first')(tensor)\n",
        "    if cv2_out == None:\n",
        "        return tensor\n",
        "    tensor = Conv2D(cv2_out, cv2_filter, strides=cv2_strides, data_format='channels_first', name=layer+'_conv'+'2')(tensor)\n",
        "    tensor = BatchNormalization(axis=1, epsilon=0.00001, name=layer+'_bn'+'2')(tensor)\n",
        "    tensor = Activation('relu')(tensor)\n",
        "    return tensor\n",
        "\n",
        "WEIGHTS = [\n",
        "  'conv1', 'bn1', 'conv2', 'bn2', 'conv3', 'bn3',\n",
        "  'inception_3a_1x1_conv', 'inception_3a_1x1_bn',\n",
        "  'inception_3a_pool_conv', 'inception_3a_pool_bn',\n",
        "  'inception_3a_5x5_conv1', 'inception_3a_5x5_conv2', 'inception_3a_5x5_bn1', 'inception_3a_5x5_bn2',\n",
        "  'inception_3a_3x3_conv1', 'inception_3a_3x3_conv2', 'inception_3a_3x3_bn1', 'inception_3a_3x3_bn2',\n",
        "  'inception_3b_3x3_conv1', 'inception_3b_3x3_conv2', 'inception_3b_3x3_bn1', 'inception_3b_3x3_bn2',\n",
        "  'inception_3b_5x5_conv1', 'inception_3b_5x5_conv2', 'inception_3b_5x5_bn1', 'inception_3b_5x5_bn2',\n",
        "  'inception_3b_pool_conv', 'inception_3b_pool_bn',\n",
        "  'inception_3b_1x1_conv', 'inception_3b_1x1_bn',\n",
        "  'inception_3c_3x3_conv1', 'inception_3c_3x3_conv2', 'inception_3c_3x3_bn1', 'inception_3c_3x3_bn2',\n",
        "  'inception_3c_5x5_conv1', 'inception_3c_5x5_conv2', 'inception_3c_5x5_bn1', 'inception_3c_5x5_bn2',\n",
        "  'inception_4a_3x3_conv1', 'inception_4a_3x3_conv2', 'inception_4a_3x3_bn1', 'inception_4a_3x3_bn2',\n",
        "  'inception_4a_5x5_conv1', 'inception_4a_5x5_conv2', 'inception_4a_5x5_bn1', 'inception_4a_5x5_bn2',\n",
        "  'inception_4a_pool_conv', 'inception_4a_pool_bn',\n",
        "  'inception_4a_1x1_conv', 'inception_4a_1x1_bn',\n",
        "  'inception_4e_3x3_conv1', 'inception_4e_3x3_conv2', 'inception_4e_3x3_bn1', 'inception_4e_3x3_bn2',\n",
        "  'inception_4e_5x5_conv1', 'inception_4e_5x5_conv2', 'inception_4e_5x5_bn1', 'inception_4e_5x5_bn2',\n",
        "  'inception_5a_3x3_conv1', 'inception_5a_3x3_conv2', 'inception_5a_3x3_bn1', 'inception_5a_3x3_bn2',\n",
        "  'inception_5a_pool_conv', 'inception_5a_pool_bn',\n",
        "  'inception_5a_1x1_conv', 'inception_5a_1x1_bn',\n",
        "  'inception_5b_3x3_conv1', 'inception_5b_3x3_conv2', 'inception_5b_3x3_bn1', 'inception_5b_3x3_bn2',\n",
        "  'inception_5b_pool_conv', 'inception_5b_pool_bn',\n",
        "  'inception_5b_1x1_conv', 'inception_5b_1x1_bn',\n",
        "  'dense_layer'\n",
        "]\n",
        "\n",
        "conv_shape = {\n",
        "  'conv1': [64, 3, 7, 7],\n",
        "  'conv2': [64, 64, 1, 1],\n",
        "  'conv3': [192, 64, 3, 3],\n",
        "  'inception_3a_1x1_conv': [64, 192, 1, 1],\n",
        "  'inception_3a_pool_conv': [32, 192, 1, 1],\n",
        "  'inception_3a_5x5_conv1': [16, 192, 1, 1],\n",
        "  'inception_3a_5x5_conv2': [32, 16, 5, 5],\n",
        "  'inception_3a_3x3_conv1': [96, 192, 1, 1],\n",
        "  'inception_3a_3x3_conv2': [128, 96, 3, 3],\n",
        "  'inception_3b_3x3_conv1': [96, 256, 1, 1],\n",
        "  'inception_3b_3x3_conv2': [128, 96, 3, 3],\n",
        "  'inception_3b_5x5_conv1': [32, 256, 1, 1],\n",
        "  'inception_3b_5x5_conv2': [64, 32, 5, 5],\n",
        "  'inception_3b_pool_conv': [64, 256, 1, 1],\n",
        "  'inception_3b_1x1_conv': [64, 256, 1, 1],\n",
        "  'inception_3c_3x3_conv1': [128, 320, 1, 1],\n",
        "  'inception_3c_3x3_conv2': [256, 128, 3, 3],\n",
        "  'inception_3c_5x5_conv1': [32, 320, 1, 1],\n",
        "  'inception_3c_5x5_conv2': [64, 32, 5, 5],\n",
        "  'inception_4a_3x3_conv1': [96, 640, 1, 1],\n",
        "  'inception_4a_3x3_conv2': [192, 96, 3, 3],\n",
        "  'inception_4a_5x5_conv1': [32, 640, 1, 1,],\n",
        "  'inception_4a_5x5_conv2': [64, 32, 5, 5],\n",
        "  'inception_4a_pool_conv': [128, 640, 1, 1],\n",
        "  'inception_4a_1x1_conv': [256, 640, 1, 1],\n",
        "  'inception_4e_3x3_conv1': [160, 640, 1, 1],\n",
        "  'inception_4e_3x3_conv2': [256, 160, 3, 3],\n",
        "  'inception_4e_5x5_conv1': [64, 640, 1, 1],\n",
        "  'inception_4e_5x5_conv2': [128, 64, 5, 5],\n",
        "  'inception_5a_3x3_conv1': [96, 1024, 1, 1],\n",
        "  'inception_5a_3x3_conv2': [384, 96, 3, 3],\n",
        "  'inception_5a_pool_conv': [96, 1024, 1, 1],\n",
        "  'inception_5a_1x1_conv': [256, 1024, 1, 1],\n",
        "  'inception_5b_3x3_conv1': [96, 736, 1, 1],\n",
        "  'inception_5b_3x3_conv2': [384, 96, 3, 3],\n",
        "  'inception_5b_pool_conv': [96, 736, 1, 1],\n",
        "  'inception_5b_1x1_conv': [256, 736, 1, 1],\n",
        "}\n",
        "\n",
        "def load_weights_from_FaceNet(FRmodel):\n",
        "    # Load weights from csv files (which was exported from Openface torch model)\n",
        "    weights = WEIGHTS\n",
        "    weights_dict = load_weights()\n",
        "\n",
        "    # Set layer weights of the model\n",
        "    for name in weights:\n",
        "        if FRmodel.get_layer(name) != None:\n",
        "            FRmodel.get_layer(name).set_weights(weights_dict[name])\n",
        "        elif model.get_layer(name) != None:\n",
        "            model.get_layer(name).set_weights(weights_dict[name])\n",
        "\n",
        "def load_weights():\n",
        "    # Set weights path\n",
        "    dirPath = '/content/weights/'\n",
        "    fileNames = filter(lambda f: not f.startswith('.'), os.listdir(dirPath))\n",
        "    paths = {}\n",
        "    weights_dict = {}\n",
        "\n",
        "    for n in fileNames:\n",
        "        paths[n.replace('.csv', '')] = dirPath + '/' + n\n",
        "\n",
        "    for name in WEIGHTS:\n",
        "        if 'conv' in name:\n",
        "            conv_w = genfromtxt(paths[name + '_w'], delimiter=',', dtype=None)\n",
        "            conv_w = np.reshape(conv_w, conv_shape[name])\n",
        "            conv_w = np.transpose(conv_w, (2, 3, 1, 0))\n",
        "            conv_b = genfromtxt(paths[name + '_b'], delimiter=',', dtype=None)\n",
        "            weights_dict[name] = [conv_w, conv_b]     \n",
        "        elif 'bn' in name:\n",
        "            bn_w = genfromtxt(paths[name + '_w'], delimiter=',', dtype=None)\n",
        "            bn_b = genfromtxt(paths[name + '_b'], delimiter=',', dtype=None)\n",
        "            bn_m = genfromtxt(paths[name + '_m'], delimiter=',', dtype=None)\n",
        "            bn_v = genfromtxt(paths[name + '_v'], delimiter=',', dtype=None)\n",
        "            weights_dict[name] = [bn_w, bn_b, bn_m, bn_v]\n",
        "        elif 'dense' in name:\n",
        "            dense_w = genfromtxt(dirPath+'/dense_w.csv', delimiter=',', dtype=None)\n",
        "            dense_w = np.reshape(dense_w, (128, 736))\n",
        "            dense_w = np.transpose(dense_w, (1, 0))\n",
        "            dense_b = genfromtxt(dirPath+'/dense_b.csv', delimiter=',', dtype=None)\n",
        "            weights_dict[name] = [dense_w, dense_b]\n",
        "\n",
        "    return weights_dict\n",
        "\n",
        "\n",
        "def load_dataset():\n",
        "    train_dataset = h5py.File('datasets/train_happy.h5', \"r\")\n",
        "    train_set_x_orig = np.array(train_dataset[\"train_set_x\"][:]) # your train set features\n",
        "    train_set_y_orig = np.array(train_dataset[\"train_set_y\"][:]) # your train set labels\n",
        "\n",
        "    test_dataset = h5py.File('datasets/test_happy.h5', \"r\")\n",
        "    test_set_x_orig = np.array(test_dataset[\"test_set_x\"][:]) # your test set features\n",
        "    test_set_y_orig = np.array(test_dataset[\"test_set_y\"][:]) # your test set labels\n",
        "\n",
        "    classes = np.array(test_dataset[\"list_classes\"][:]) # the list of classes\n",
        "    \n",
        "    train_set_y_orig = train_set_y_orig.reshape((1, train_set_y_orig.shape[0]))\n",
        "    test_set_y_orig = test_set_y_orig.reshape((1, test_set_y_orig.shape[0]))\n",
        "    \n",
        "    return train_set_x_orig, train_set_y_orig, test_set_x_orig, test_set_y_orig, classes\n",
        "\n",
        "def img_to_encoding(image_path, model):\n",
        "    img1 = cv2.imread(image_path, 1)\n",
        "    img = img1[...,::-1]\n",
        "    img = np.around(np.transpose(img, (2,0,1))/255.0, decimals=12)\n",
        "    x_train = np.array([img])\n",
        "    embedding = model.predict_on_batch(x_train)\n",
        "    return embedding"
      ]
    },
    {
      "cell_type": "markdown",
      "metadata": {},
      "source": [
        "Inception Blocks"
      ]
    },
    {
      "cell_type": "code",
      "execution_count": 2,
      "metadata": {
        "id": "5Uiz0zI6v3pV"
      },
      "outputs": [],
      "source": [
        "import tensorflow as tf\n",
        "import numpy as np\n",
        "import os\n",
        "from numpy import genfromtxt\n",
        "from keras import backend as K\n",
        "from keras.layers import Conv2D, ZeroPadding2D, Activation, Input, concatenate\n",
        "from keras.models import Model\n",
        "from keras.layers import BatchNormalization\n",
        "from keras.layers.pooling import MaxPooling2D, AveragePooling2D\n",
        "from keras.layers.core import Lambda, Flatten, Dense\n",
        "\n",
        "def inception_block_1a(X):\n",
        "    \"\"\"\n",
        "    Implementation of an inception block\n",
        "    \"\"\"\n",
        "    \n",
        "    X_3x3 = Conv2D(96, (1, 1), data_format='channels_first', name ='inception_3a_3x3_conv1')(X)\n",
        "    X_3x3 = BatchNormalization(axis=1, epsilon=0.00001, name = 'inception_3a_3x3_bn1')(X_3x3)\n",
        "    X_3x3 = Activation('relu')(X_3x3)\n",
        "    X_3x3 = ZeroPadding2D(padding=(1, 1), data_format='channels_first')(X_3x3)\n",
        "    X_3x3 = Conv2D(128, (3, 3), data_format='channels_first', name='inception_3a_3x3_conv2')(X_3x3)\n",
        "    X_3x3 = BatchNormalization(axis=1, epsilon=0.00001, name='inception_3a_3x3_bn2')(X_3x3)\n",
        "    X_3x3 = Activation('relu')(X_3x3)\n",
        "    \n",
        "    X_5x5 = Conv2D(16, (1, 1), data_format='channels_first', name='inception_3a_5x5_conv1')(X)\n",
        "    X_5x5 = BatchNormalization(axis=1, epsilon=0.00001, name='inception_3a_5x5_bn1')(X_5x5)\n",
        "    X_5x5 = Activation('relu')(X_5x5)\n",
        "    X_5x5 = ZeroPadding2D(padding=(2, 2), data_format='channels_first')(X_5x5)\n",
        "    X_5x5 = Conv2D(32, (5, 5), data_format='channels_first', name='inception_3a_5x5_conv2')(X_5x5)\n",
        "    X_5x5 = BatchNormalization(axis=1, epsilon=0.00001, name='inception_3a_5x5_bn2')(X_5x5)\n",
        "    X_5x5 = Activation('relu')(X_5x5)\n",
        "\n",
        "    X_pool = MaxPooling2D(pool_size=3, strides=2, data_format='channels_first')(X)\n",
        "    X_pool = Conv2D(32, (1, 1), data_format='channels_first', name='inception_3a_pool_conv')(X_pool)\n",
        "    X_pool = BatchNormalization(axis=1, epsilon=0.00001, name='inception_3a_pool_bn')(X_pool)\n",
        "    X_pool = Activation('relu')(X_pool)\n",
        "    X_pool = ZeroPadding2D(padding=((3, 4), (3, 4)), data_format='channels_first')(X_pool)\n",
        "\n",
        "    X_1x1 = Conv2D(64, (1, 1), data_format='channels_first', name='inception_3a_1x1_conv')(X)\n",
        "    X_1x1 = BatchNormalization(axis=1, epsilon=0.00001, name='inception_3a_1x1_bn')(X_1x1)\n",
        "    X_1x1 = Activation('relu')(X_1x1)\n",
        "        \n",
        "    # CONCAT\n",
        "    inception = concatenate([X_3x3, X_5x5, X_pool, X_1x1], axis=1)\n",
        "\n",
        "    return inception\n",
        "\n",
        "def inception_block_1b(X):\n",
        "    X_3x3 = Conv2D(96, (1, 1), data_format='channels_first', name='inception_3b_3x3_conv1')(X)\n",
        "    X_3x3 = BatchNormalization(axis=1, epsilon=0.00001, name='inception_3b_3x3_bn1')(X_3x3)\n",
        "    X_3x3 = Activation('relu')(X_3x3)\n",
        "    X_3x3 = ZeroPadding2D(padding=(1, 1), data_format='channels_first')(X_3x3)\n",
        "    X_3x3 = Conv2D(128, (3, 3), data_format='channels_first', name='inception_3b_3x3_conv2')(X_3x3)\n",
        "    X_3x3 = BatchNormalization(axis=1, epsilon=0.00001, name='inception_3b_3x3_bn2')(X_3x3)\n",
        "    X_3x3 = Activation('relu')(X_3x3)\n",
        "\n",
        "    X_5x5 = Conv2D(32, (1, 1), data_format='channels_first', name='inception_3b_5x5_conv1')(X)\n",
        "    X_5x5 = BatchNormalization(axis=1, epsilon=0.00001, name='inception_3b_5x5_bn1')(X_5x5)\n",
        "    X_5x5 = Activation('relu')(X_5x5)\n",
        "    X_5x5 = ZeroPadding2D(padding=(2, 2), data_format='channels_first')(X_5x5)\n",
        "    X_5x5 = Conv2D(64, (5, 5), data_format='channels_first', name='inception_3b_5x5_conv2')(X_5x5)\n",
        "    X_5x5 = BatchNormalization(axis=1, epsilon=0.00001, name='inception_3b_5x5_bn2')(X_5x5)\n",
        "    X_5x5 = Activation('relu')(X_5x5)\n",
        "\n",
        "    X_pool = AveragePooling2D(pool_size=(3, 3), strides=(3, 3), data_format='channels_first')(X)\n",
        "    X_pool = Conv2D(64, (1, 1), data_format='channels_first', name='inception_3b_pool_conv')(X_pool)\n",
        "    X_pool = BatchNormalization(axis=1, epsilon=0.00001, name='inception_3b_pool_bn')(X_pool)\n",
        "    X_pool = Activation('relu')(X_pool)\n",
        "    X_pool = ZeroPadding2D(padding=(4, 4), data_format='channels_first')(X_pool)\n",
        "\n",
        "    X_1x1 = Conv2D(64, (1, 1), data_format='channels_first', name='inception_3b_1x1_conv')(X)\n",
        "    X_1x1 = BatchNormalization(axis=1, epsilon=0.00001, name='inception_3b_1x1_bn')(X_1x1)\n",
        "    X_1x1 = Activation('relu')(X_1x1)\n",
        "\n",
        "    inception = concatenate([X_3x3, X_5x5, X_pool, X_1x1], axis=1)\n",
        "\n",
        "    return inception\n",
        "\n",
        "def inception_block_1c(X):\n",
        "    X_3x3 = conv2d_bn(X,\n",
        "                           layer='inception_3c_3x3',\n",
        "                           cv1_out=128,\n",
        "                           cv1_filter=(1, 1),\n",
        "                           cv2_out=256,\n",
        "                           cv2_filter=(3, 3),\n",
        "                           cv2_strides=(2, 2),\n",
        "                           padding=(1, 1))\n",
        "\n",
        "    X_5x5 = conv2d_bn(X,\n",
        "                           layer='inception_3c_5x5',\n",
        "                           cv1_out=32,\n",
        "                           cv1_filter=(1, 1),\n",
        "                           cv2_out=64,\n",
        "                           cv2_filter=(5, 5),\n",
        "                           cv2_strides=(2, 2),\n",
        "                           padding=(2, 2))\n",
        "\n",
        "    X_pool = MaxPooling2D(pool_size=3, strides=2, data_format='channels_first')(X)\n",
        "    X_pool = ZeroPadding2D(padding=((0, 1), (0, 1)), data_format='channels_first')(X_pool)\n",
        "\n",
        "    inception = concatenate([X_3x3, X_5x5, X_pool], axis=1)\n",
        "\n",
        "    return inception\n",
        "\n",
        "def inception_block_2a(X):\n",
        "    X_3x3 = conv2d_bn(X,\n",
        "                           layer='inception_4a_3x3',\n",
        "                           cv1_out=96,\n",
        "                           cv1_filter=(1, 1),\n",
        "                           cv2_out=192,\n",
        "                           cv2_filter=(3, 3),\n",
        "                           cv2_strides=(1, 1),\n",
        "                           padding=(1, 1))\n",
        "    X_5x5 = conv2d_bn(X,\n",
        "                           layer='inception_4a_5x5',\n",
        "                           cv1_out=32,\n",
        "                           cv1_filter=(1, 1),\n",
        "                           cv2_out=64,\n",
        "                           cv2_filter=(5, 5),\n",
        "                           cv2_strides=(1, 1),\n",
        "                           padding=(2, 2))\n",
        "\n",
        "    X_pool = AveragePooling2D(pool_size=(3, 3), strides=(3, 3), data_format='channels_first')(X)\n",
        "    X_pool = conv2d_bn(X_pool,\n",
        "                           layer='inception_4a_pool',\n",
        "                           cv1_out=128,\n",
        "                           cv1_filter=(1, 1),\n",
        "                           padding=(2, 2))\n",
        "    X_1x1 = conv2d_bn(X,\n",
        "                           layer='inception_4a_1x1',\n",
        "                           cv1_out=256,\n",
        "                           cv1_filter=(1, 1))\n",
        "    inception = concatenate([X_3x3, X_5x5, X_pool, X_1x1], axis=1)\n",
        "\n",
        "    return inception\n",
        "\n",
        "def inception_block_2b(X):\n",
        "    #inception4e\n",
        "    X_3x3 = conv2d_bn(X,\n",
        "                           layer='inception_4e_3x3',\n",
        "                           cv1_out=160,\n",
        "                           cv1_filter=(1, 1),\n",
        "                           cv2_out=256,\n",
        "                           cv2_filter=(3, 3),\n",
        "                           cv2_strides=(2, 2),\n",
        "                           padding=(1, 1))\n",
        "    X_5x5 = conv2d_bn(X,\n",
        "                           layer='inception_4e_5x5',\n",
        "                           cv1_out=64,\n",
        "                           cv1_filter=(1, 1),\n",
        "                           cv2_out=128,\n",
        "                           cv2_filter=(5, 5),\n",
        "                           cv2_strides=(2, 2),\n",
        "                           padding=(2, 2))\n",
        "    \n",
        "    X_pool = MaxPooling2D(pool_size=3, strides=2, data_format='channels_first')(X)\n",
        "    X_pool = ZeroPadding2D(padding=((0, 1), (0, 1)), data_format='channels_first')(X_pool)\n",
        "\n",
        "    inception = concatenate([X_3x3, X_5x5, X_pool], axis=1)\n",
        "\n",
        "    return inception\n",
        "\n",
        "def inception_block_3a(X):\n",
        "    X_3x3 = conv2d_bn(X,\n",
        "                           layer='inception_5a_3x3',\n",
        "                           cv1_out=96,\n",
        "                           cv1_filter=(1, 1),\n",
        "                           cv2_out=384,\n",
        "                           cv2_filter=(3, 3),\n",
        "                           cv2_strides=(1, 1),\n",
        "                           padding=(1, 1))\n",
        "    X_pool = AveragePooling2D(pool_size=(3, 3), strides=(3, 3), data_format='channels_first')(X)\n",
        "    X_pool = conv2d_bn(X_pool,\n",
        "                           layer='inception_5a_pool',\n",
        "                           cv1_out=96,\n",
        "                           cv1_filter=(1, 1),\n",
        "                           padding=(1, 1))\n",
        "    X_1x1 = conv2d_bn(X,\n",
        "                           layer='inception_5a_1x1',\n",
        "                           cv1_out=256,\n",
        "                           cv1_filter=(1, 1))\n",
        "\n",
        "    inception = concatenate([X_3x3, X_pool, X_1x1], axis=1)\n",
        "\n",
        "    return inception\n",
        "\n",
        "def inception_block_3b(X):\n",
        "    X_3x3 = conv2d_bn(X,\n",
        "                           layer='inception_5b_3x3',\n",
        "                           cv1_out=96,\n",
        "                           cv1_filter=(1, 1),\n",
        "                           cv2_out=384,\n",
        "                           cv2_filter=(3, 3),\n",
        "                           cv2_strides=(1, 1),\n",
        "                           padding=(1, 1))\n",
        "    X_pool = MaxPooling2D(pool_size=3, strides=2, data_format='channels_first')(X)\n",
        "    X_pool = conv2d_bn(X_pool,\n",
        "                           layer='inception_5b_pool',\n",
        "                           cv1_out=96,\n",
        "                           cv1_filter=(1, 1))\n",
        "    X_pool = ZeroPadding2D(padding=(1, 1), data_format='channels_first')(X_pool)\n",
        "\n",
        "    X_1x1 = conv2d_bn(X,\n",
        "                           layer='inception_5b_1x1',\n",
        "                           cv1_out=256,\n",
        "                           cv1_filter=(1, 1))\n",
        "    inception = concatenate([X_3x3, X_pool, X_1x1], axis=1)\n",
        "\n",
        "    return inception\n",
        "\n",
        "def faceRecoModel(input_shape):\n",
        "    \"\"\"\n",
        "    Implementation of the Inception model used for FaceNet\n",
        "    \n",
        "    Arguments:\n",
        "    input_shape -- shape of the images of the dataset\n",
        "\n",
        "    Returns:\n",
        "    model -- a Model() instance in Keras\n",
        "    \"\"\"\n",
        "        \n",
        "    # Define the input as a tensor with shape input_shape\n",
        "    X_input = Input(input_shape)\n",
        "\n",
        "    # Zero-Padding\n",
        "    X = ZeroPadding2D((3, 3))(X_input)\n",
        "    \n",
        "    # First Block\n",
        "    X = Conv2D(64, (7, 7), strides = (2, 2), name = 'conv1')(X)\n",
        "    X = BatchNormalization(axis = 1, name = 'bn1')(X)\n",
        "    X = Activation('relu')(X)\n",
        "    \n",
        "    # Zero-Padding + MAXPOOL\n",
        "    X = ZeroPadding2D((1, 1))(X)\n",
        "    X = MaxPooling2D((3, 3), strides = 2)(X)\n",
        "    \n",
        "    # Second Block\n",
        "    X = Conv2D(64, (1, 1), strides = (1, 1), name = 'conv2')(X)\n",
        "    X = BatchNormalization(axis = 1, epsilon=0.00001, name = 'bn2')(X)\n",
        "    X = Activation('relu')(X)\n",
        "    \n",
        "    # Zero-Padding + MAXPOOL\n",
        "    X = ZeroPadding2D((1, 1))(X)\n",
        "\n",
        "    # Second Block\n",
        "    X = Conv2D(192, (3, 3), strides = (1, 1), name = 'conv3')(X)\n",
        "    X = BatchNormalization(axis = 1, epsilon=0.00001, name = 'bn3')(X)\n",
        "    X = Activation('relu')(X)\n",
        "    \n",
        "    # Zero-Padding + MAXPOOL\n",
        "    X = ZeroPadding2D((1, 1))(X)\n",
        "    X = MaxPooling2D(pool_size = 3, strides = 2)(X)\n",
        "    \n",
        "    # Inception 1: a/b/c\n",
        "    X = inception_block_1a(X)\n",
        "    X = inception_block_1b(X)\n",
        "    X = inception_block_1c(X)\n",
        "    \n",
        "    # Inception 2: a/b\n",
        "    X = inception_block_2a(X)\n",
        "    X = inception_block_2b(X)\n",
        "    \n",
        "    # Inception 3: a/b\n",
        "    X = inception_block_3a(X)\n",
        "    X = inception_block_3b(X)\n",
        "    \n",
        "    # Top layer\n",
        "    X = AveragePooling2D(pool_size=(3, 3), strides=(1, 1), data_format='channels_first')(X)\n",
        "    X = Flatten()(X)\n",
        "    X = Dense(128, name='dense_layer')(X)\n",
        "    \n",
        "    # L2 normalization\n",
        "    X = Lambda(lambda  x: K.l2_normalize(x,axis=1))(X)\n",
        "\n",
        "    # Create model instance\n",
        "    model = Model(inputs = X_input, outputs = X, name='FaceRecoModel')\n",
        "        \n",
        "    return model"
      ]
    },
    {
      "cell_type": "markdown",
      "metadata": {},
      "source": [
        "Download Libraries"
      ]
    },
    {
      "cell_type": "code",
      "execution_count": 3,
      "metadata": {
        "id": "vHpjlbemuI3y"
      },
      "outputs": [],
      "source": [
        "from keras.models import Sequential\n",
        "from keras.layers import Conv2D, ZeroPadding2D, Activation, Input, concatenate\n",
        "from keras.models import Model\n",
        "from keras.layers import BatchNormalization\n",
        "from keras.layers.pooling import MaxPooling2D, AveragePooling2D\n",
        "from keras.layers.merge import Concatenate\n",
        "from keras.layers.core import Lambda, Flatten, Dense\n",
        "from keras.initializers import glorot_uniform\n",
        "from tensorflow.keras.layers import Layer\n",
        "from keras import backend as K\n",
        "K.set_image_data_format('channels_first')\n",
        "import cv2\n",
        "import os\n",
        "import numpy as np\n",
        "from numpy import genfromtxt\n",
        "import pandas as pd\n",
        "import tensorflow as tf\n",
        "import sys\n",
        "\n",
        "%matplotlib inline\n",
        "%load_ext autoreload\n",
        "%autoreload 2\n",
        "\n",
        "np.set_printoptions(threshold=sys.maxsize)"
      ]
    },
    {
      "cell_type": "markdown",
      "metadata": {},
      "source": [
        "Download Pretrained FaceNet Weights"
      ]
    },
    {
      "cell_type": "code",
      "execution_count": 4,
      "metadata": {
        "id": "v2biAtO12wVI"
      },
      "outputs": [],
      "source": [
        "import os\n",
        "import urllib\n",
        "import re\n",
        "import requests\n",
        "from bs4 import BeautifulSoup\n",
        "if not os.path.exists('/content/weights'):\n",
        "  os.mkdir('/content/weights')\n",
        "  \n",
        "exp = re.compile('\\.csv$')\n",
        "wp = requests.get(\"https://github.com/csaybar/DLcoursera/tree/master/Convolutional%20Neural%20Networks/week04/Face%20Recognition/weights\")\n",
        "soup = BeautifulSoup(wp.content, 'html.parser')\n",
        "\n",
        "images = []\n",
        "for element in soup.find_all('a',class_=\"js-navigation-open\"):\n",
        "  filename = exp.search(element['href'])\n",
        "  if bool(filename):\n",
        "    image_url = 'https://raw.githubusercontent.com' + element['href'].replace('/blob', '')\n",
        "    urllib.request.urlretrieve(image_url, '/content/weights/' + os.path.basename(image_url))\n",
        "    images.append(image_url)"
      ]
    },
    {
      "cell_type": "markdown",
      "metadata": {},
      "source": [
        "## Build Recognition Model"
      ]
    },
    {
      "cell_type": "markdown",
      "metadata": {},
      "source": [
        "96x96 RGB Images to 128 dimensional image encoding vector"
      ]
    },
    {
      "cell_type": "code",
      "execution_count": 5,
      "metadata": {
        "id": "6m2ESh_7uI38"
      },
      "outputs": [],
      "source": [
        "FRmodel = faceRecoModel(input_shape=(3, 96, 96))"
      ]
    },
    {
      "cell_type": "markdown",
      "metadata": {},
      "source": [
        "Define Triplet Loss"
      ]
    },
    {
      "cell_type": "code",
      "execution_count": 6,
      "metadata": {
        "id": "jE8Mw_zQuI4F"
      },
      "outputs": [],
      "source": [
        "def triplet_loss(y_true, y_pred, alpha = 0.2):\n",
        "    \"\"\"\n",
        "    Implementation of the triplet loss as defined by formula (3)\n",
        "    \n",
        "    Arguments:\n",
        "    y_true -- true labels, required when you define a loss in Keras, you don't need it in this function.\n",
        "    y_pred -- python list containing three objects:\n",
        "            anchor -- the encodings for the anchor images, of shape (None, 128)\n",
        "            positive -- the encodings for the positive images, of shape (None, 128)\n",
        "            negative -- the encodings for the negative images, of shape (None, 128)\n",
        "    \n",
        "    Returns:\n",
        "    loss -- real number, value of the loss\n",
        "    \"\"\"\n",
        "    \n",
        "    anchor, positive, negative = y_pred[0], y_pred[1], y_pred[2]\n",
        "    pos_dist = tf.reduce_sum(tf.square(tf.subtract(anchor, positive)), axis=-1, keepdims=True)\n",
        "    neg_dist = tf.reduce_sum(tf.square(tf.subtract(anchor, negative)), axis=-1, keepdims=True)\n",
        "    basic_loss = tf.add(tf.subtract(pos_dist, neg_dist), alpha)\n",
        "    loss = tf.reduce_sum(tf.maximum(basic_loss, 0.0))\n",
        "    \n",
        "    return loss"
      ]
    },
    {
      "cell_type": "markdown",
      "metadata": {},
      "source": [
        "Load Pre-Trained Model"
      ]
    },
    {
      "cell_type": "code",
      "execution_count": 7,
      "metadata": {
        "id": "nDSn0LdOuI4N"
      },
      "outputs": [],
      "source": [
        "FRmodel.compile(optimizer = 'adam', loss = triplet_loss, metrics = ['accuracy'])\n",
        "load_weights_from_FaceNet(FRmodel)"
      ]
    },
    {
      "cell_type": "markdown",
      "metadata": {},
      "source": [
        "Data Pre-processing (Face Extraction)"
      ]
    },
    {
      "cell_type": "code",
      "execution_count": 8,
      "metadata": {
        "id": "BacryENH6SC6"
      },
      "outputs": [],
      "source": [
        "import os\n",
        "import cv2\n",
        "import numpy as np\n",
        "\n",
        "def extract_face(f, required_size=(96, 96)):\n",
        "  # Define paths\n",
        "  prototxt_path = '/content/drive/MyDrive/Stanford/236/model_data/deploy.prototxt.txt'\n",
        "  caffemodel_path = '/content/drive/MyDrive/Stanford/236/model_data/weights.caffemodel'\n",
        "\n",
        "  # Read the model\n",
        "  model = cv2.dnn.readNetFromCaffe(prototxt_path, caffemodel_path)\n",
        "\n",
        "  # Create directory 'faces' if it does not exist\n",
        "  if not os.path.exists('faces'):\n",
        "\t  print(\"New directory created\")\n",
        "\t  os.makedirs('faces')\n",
        "\n",
        "  # Loop through all images and strip out faces\n",
        "  count = 0\n",
        "  file = f[6:]\n",
        "  #f = \"images/\"+file\n",
        "\n",
        "  file_name, file_extension = os.path.splitext(f)\n",
        "  if (file_extension in ['.png','.jpg']):\n",
        "    image = cv2.imread(f)\n",
        "    (h, w) = image.shape[:2]\n",
        "    blob = cv2.dnn.blobFromImage(cv2.resize(image, (200, 200), interpolation = cv2.INTER_AREA), 1.0, (200, 200), (104.0, 177.0, 123.0))\n",
        "    model.setInput(blob)\n",
        "    detections = model.forward()\n",
        "\n",
        "\t\t# Identify each face\n",
        "    for i in range(0, 1):#detections.shape[2]):\n",
        "      box = detections[0, 0, i, 3:7] * np.array([w, h, w, h])\n",
        "      (startX, startY, endX, endY) = box.astype(\"int\")\n",
        "      confidence = detections[0, 0, i, 2]\n",
        "\n",
        "\t\t\t# If confidence > 0.5, save it as a separate file\n",
        "      if (confidence > 0.5):\n",
        "        count += 1\n",
        "        frame = image[startY:endY, startX:endX]\n",
        "        if (frame.shape[0]<=75 or frame.shape[1]<=75):\n",
        "          return False\n",
        "        frame = cv2.resize(frame, required_size, interpolation = cv2.INTER_AREA)\n",
        "        cv2.imwrite('faces/'+str(i) + '_' + file, frame)\n",
        "      else:\n",
        "        return False\n",
        "  return True"
      ]
    },
    {
      "cell_type": "markdown",
      "metadata": {},
      "source": [
        "## Data"
      ]
    },
    {
      "cell_type": "markdown",
      "metadata": {},
      "source": [
        "### Download Train Data"
      ]
    },
    {
      "cell_type": "code",
      "execution_count": null,
      "metadata": {
        "colab": {
          "base_uri": "https://localhost:8080/"
        },
        "id": "-KZZG2lUT-Vw",
        "outputId": "791627c9-2951-4d00-e9e3-65c49e6978b7"
      },
      "outputs": [],
      "source": [
        "from google.colab import drive\n",
        "drive.mount('/content/drive')\n",
        "!unzip \"/content/drive/MyDrive/Stanford/236/236 Dataset/fairface-img-margin025-trainval.zip\""
      ]
    },
    {
      "cell_type": "markdown",
      "metadata": {},
      "source": [
        "### Download Data for Latent Space Analysis"
      ]
    },
    {
      "cell_type": "code",
      "execution_count": null,
      "metadata": {},
      "outputs": [],
      "source": [
        "from google.colab import drive\n",
        "drive.mount('/content/drive')\n",
        "!unzip \"/content/drive/MyDrive/Stanford/236/236 Dataset/data.zip\" -d \"data\""
      ]
    },
    {
      "cell_type": "markdown",
      "metadata": {},
      "source": [
        "### Build Database"
      ]
    },
    {
      "cell_type": "markdown",
      "metadata": {},
      "source": [
        "Do not run this function - takes very long"
      ]
    },
    {
      "cell_type": "code",
      "execution_count": null,
      "metadata": {
        "colab": {
          "base_uri": "https://localhost:8080/",
          "height": 356
        },
        "id": "zaw9TA5kVh3i",
        "outputId": "a0a0e3b1-ef38-4846-b5b9-7e907241a5a6"
      },
      "outputs": [],
      "source": [
        "import glob\n",
        "path = \"train/*.*\"\n",
        "database = {}\n",
        "for file in glob.glob(path):\n",
        "  f = file[6:-4]\n",
        "  if extract_face(file):\n",
        "    database[f] = img_to_encoding(\"faces/0_\"+file[6:], FRmodel)"
      ]
    },
    {
      "cell_type": "code",
      "execution_count": null,
      "metadata": {},
      "outputs": [],
      "source": [
        "import pickle \n",
        "with open('database.pkl', 'wb') as f:\n",
        "    pickle.dump(database, f)"
      ]
    },
    {
      "cell_type": "markdown",
      "metadata": {},
      "source": [
        "Run this block to load pre-created database of image encodings"
      ]
    },
    {
      "cell_type": "code",
      "execution_count": null,
      "metadata": {},
      "outputs": [],
      "source": [
        "import pickle\n",
        "\n",
        "with open('database.pkl', 'rb') as f:\n",
        "    database1 = pickle.load(f)"
      ]
    },
    {
      "cell_type": "markdown",
      "metadata": {},
      "source": [
        "Build Database for Human User Latent Space Analysis (Use pre-processed images)"
      ]
    },
    {
      "cell_type": "code",
      "execution_count": null,
      "metadata": {},
      "outputs": [],
      "source": [
        "import glob\n",
        "\n",
        "path = \"data/content/nfaces/*.*\"\n",
        "databasen = {}\n",
        "for f in glob.glob(path):\n",
        "  databasen[f] = img_to_encoding(f, FRmodel)"
      ]
    },
    {
      "cell_type": "markdown",
      "metadata": {},
      "source": [
        "Add user image to database for testing"
      ]
    },
    {
      "cell_type": "code",
      "execution_count": 12,
      "metadata": {
        "id": "4wreH5nlNoT7"
      },
      "outputs": [],
      "source": [
        "extract_face(\"train/Snapchat-673047922.jpg\")\n",
        "database[\"sanjana\"] = img_to_encoding(\"faces/0_Snapchat-673047922.jpg\", FRmodel)"
      ]
    },
    {
      "cell_type": "markdown",
      "metadata": {},
      "source": [
        "# Build Verification Functions"
      ]
    },
    {
      "cell_type": "markdown",
      "metadata": {},
      "source": [
        "Distance based on Frobenius Norm"
      ]
    },
    {
      "cell_type": "code",
      "execution_count": 13,
      "metadata": {
        "id": "-U-TRsHtuI4X"
      },
      "outputs": [],
      "source": [
        "def verify(image_path, identity, database, model):\n",
        "    \"\"\"\n",
        "    Function that verifies if the person on the \"image_path\" image is \"identity\".\n",
        "    \n",
        "    Arguments:\n",
        "    image_path -- path to an image\n",
        "    identity -- string, name of the person you'd like to verify the identity. Has to be a resident of the Happy house.\n",
        "    database -- python dictionary mapping names of allowed people's names (strings) to their encodings (vectors).\n",
        "    model -- your Inception model instance in Keras\n",
        "    \n",
        "    Returns:\n",
        "    dist -- distance between the image_path and the image of \"identity\" in the database.\n",
        "    door_open -- True, if the door should open. False otherwise.\n",
        "    \"\"\"\n",
        "  \n",
        "    encoding = img_to_encoding(image_path, model)\n",
        "    dist = np.linalg.norm(encoding - database[identity])\n",
        "    if dist < 0.7:\n",
        "        door_open = True\n",
        "    else:\n",
        "        door_open = False\n",
        "        \n",
        "    return dist, door_open"
      ]
    },
    {
      "cell_type": "markdown",
      "metadata": {},
      "source": [
        "Mahalanobis Distance"
      ]
    },
    {
      "cell_type": "code",
      "execution_count": null,
      "metadata": {},
      "outputs": [],
      "source": [
        "import scipy\n",
        "\n",
        "def distance (image_path, vals, model):\n",
        "    encoding = img_to_encoding(image_path, model)\n",
        "    features_mean = np.mean(vals, axis=0)\n",
        "    features_covmat = np.cov(vals.T)\n",
        "    features_covmat_inv = scipy.linalg.inv(features_covmat)\n",
        "    print (features_covmat_inv.shape)\n",
        "    return scipy.spatial.distance.mahalanobis(encoding, features_mean, features_covmat_inv)"
      ]
    },
    {
      "cell_type": "code",
      "execution_count": null,
      "metadata": {},
      "outputs": [],
      "source": [
        "vals = np.array(list(map(np.ravel, list(databasen.values()))))"
      ]
    },
    {
      "cell_type": "markdown",
      "metadata": {},
      "source": [
        "Test sample image aginst user in database"
      ]
    },
    {
      "cell_type": "code",
      "execution_count": 14,
      "metadata": {
        "colab": {
          "base_uri": "https://localhost:8080/"
        },
        "id": "AdK4xyoWL7QW",
        "outputId": "ae14a943-9ae1-40e4-8020-b3ee9546b704"
      },
      "outputs": [
        {
          "data": {
            "text/plain": [
              "(0.5965422, True)"
            ]
          },
          "execution_count": 14,
          "metadata": {},
          "output_type": "execute_result"
        }
      ],
      "source": [
        "extract_face(\"train/link1.jpg\")\n",
        "verify(\"faces/0_link1.jpg\", \"sanjana\", database, FRmodel)"
      ]
    },
    {
      "cell_type": "markdown",
      "metadata": {},
      "source": [
        "Test sample image against human user database\n",
        "\n",
        "Score is approximately 7"
      ]
    },
    {
      "cell_type": "code",
      "execution_count": null,
      "metadata": {},
      "outputs": [],
      "source": [
        "\n",
        "distance(\"faces/0_link1.jpg\", vals, FRmodel)"
      ]
    },
    {
      "cell_type": "markdown",
      "metadata": {},
      "source": [
        "# Proof of Concept\n",
        "\n",
        "Check if sample user image can be used to verify arbitrary images in the database"
      ]
    },
    {
      "cell_type": "code",
      "execution_count": null,
      "metadata": {
        "colab": {
          "base_uri": "https://localhost:8080/",
          "height": 1000
        },
        "id": "5HDXSHDIuI4u",
        "outputId": "d4596a64-670c-4d0e-dc7b-ea80baf9e26b",
        "scrolled": false
      },
      "outputs": [],
      "source": [
        "for key in database:\n",
        "  dist, do = verify(\"faces/0_link1.jpg\", key, database, FRmodel)\n",
        "  if (do==True):\n",
        "    print (key)"
      ]
    },
    {
      "cell_type": "markdown",
      "metadata": {},
      "source": [
        "# Experiments"
      ]
    },
    {
      "cell_type": "markdown",
      "metadata": {},
      "source": [
        "Distance of User Images From Generated Face\n",
        "\n",
        "Replace \\<face\\> with path of generated face\n",
        "\n",
        "Replace \\<image\\> with path of user image"
      ]
    },
    {
      "cell_type": "code",
      "execution_count": null,
      "metadata": {},
      "outputs": [],
      "source": [
        "extract_face(<face>)\n",
        "database1[\"<face>\"] = img_to_encoding(\"faces/0_<face>\", FRmodel)\n",
        "print (verify(\"faces/0_<image1>\", \"<face>\", database1, FRmodel))\n",
        "print(verify(\"faces/0_<image2>\", \"<face>\", database1, FRmodel))"
      ]
    },
    {
      "cell_type": "markdown",
      "metadata": {},
      "source": [
        "Mahalanobis Distance of Generated Face from Human User Dataset"
      ]
    },
    {
      "cell_type": "code",
      "execution_count": null,
      "metadata": {},
      "outputs": [],
      "source": [
        "distance(\"faces/0_<face>\", vals, FRmodel)"
      ]
    },
    {
      "cell_type": "markdown",
      "metadata": {
        "id": "r_L3tPQmuI41"
      },
      "source": [
        "### References:\n",
        "\n",
        "- Florian Schroff, Dmitry Kalenichenko, James Philbin (2015). [FaceNet: A Unified Embedding for Face Recognition and Clustering](https://arxiv.org/pdf/1503.03832.pdf)\n",
        "- Yaniv Taigman, Ming Yang, Marc'Aurelio Ranzato, Lior Wolf (2014). [DeepFace: Closing the gap to human-level performance in face verification](https://research.fb.com/wp-content/uploads/2016/11/deepface-closing-the-gap-to-human-level-performance-in-face-verification.pdf) \n",
        "- The pretrained model is inspired by Victor Sy Wang's implementation and was loaded using his code: https://github.com/iwantooxxoox/Keras-OpenFace.\n",
        "- Inspiration from the official FaceNet github repository: https://github.com/davidsandberg/facenet \n",
        "- Inspired from CS 230 Happy House\n"
      ]
    }
  ],
  "metadata": {
    "accelerator": "GPU",
    "colab": {
      "machine_shape": "hm",
      "name": "Face Verification.ipynb",
      "provenance": []
    },
    "kernelspec": {
      "display_name": "Python 3",
      "language": "python",
      "name": "python3"
    }
  },
  "nbformat": 4,
  "nbformat_minor": 0
}
